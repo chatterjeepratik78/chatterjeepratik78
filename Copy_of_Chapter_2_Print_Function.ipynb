{
  "nbformat": 4,
  "nbformat_minor": 0,
  "metadata": {
    "colab": {
      "provenance": [],
      "authorship_tag": "ABX9TyN9jXA49tnDSX01pAJ+yi1d",
      "include_colab_link": true
    },
    "kernelspec": {
      "name": "python3",
      "display_name": "Python 3"
    },
    "language_info": {
      "name": "python"
    }
  },
  "cells": [
    {
      "cell_type": "markdown",
      "metadata": {
        "id": "view-in-github",
        "colab_type": "text"
      },
      "source": [
        "<a href=\"https://colab.research.google.com/github/chatterjeepratik78/chatterjeepratik78/blob/main/Copy_of_Chapter_2_Print_Function.ipynb\" target=\"_parent\"><img src=\"https://colab.research.google.com/assets/colab-badge.svg\" alt=\"Open In Colab\"/></a>"
      ]
    },
    {
      "cell_type": "markdown",
      "source": [
        "print() function is used to take any argtuments from the user and print it out"
      ],
      "metadata": {
        "id": "je9HWEKwW2fT"
      }
    },
    {
      "cell_type": "code",
      "source": [
        "print('Hello My friends')"
      ],
      "metadata": {
        "colab": {
          "base_uri": "https://localhost:8080/"
        },
        "id": "P9EWJstyXSsg",
        "outputId": "029cd20a-3c89-4d5e-b8a5-05632f5c75a3"
      },
      "execution_count": null,
      "outputs": [
        {
          "output_type": "stream",
          "name": "stdout",
          "text": [
            "Hello My friends\n"
          ]
        }
      ]
    },
    {
      "cell_type": "markdown",
      "source": [
        "Printing information in multiple lines using (\\n)"
      ],
      "metadata": {
        "id": "SeRNyEU-XelA"
      }
    },
    {
      "cell_type": "code",
      "source": [
        "print(\"Hi! This is Peter. \\nI am 22. \\nl I am learning Python\")"
      ],
      "metadata": {
        "colab": {
          "base_uri": "https://localhost:8080/"
        },
        "id": "tgK20U_0XnOL",
        "outputId": "8766c911-41af-4cea-8481-6314d4399d94"
      },
      "execution_count": null,
      "outputs": [
        {
          "output_type": "stream",
          "name": "stdout",
          "text": [
            "Hi! This is Peter. \n",
            "I am 22. \n",
            "l I am learning Python\n"
          ]
        }
      ]
    },
    {
      "cell_type": "markdown",
      "source": [
        "STATEMENTS IN PYTHON: Precise instruction that the interpreter will excecute\n"
      ],
      "metadata": {
        "id": "9oeV5PDwYWS4"
      }
    },
    {
      "cell_type": "code",
      "source": [
        "#Multiple Print Statements\n",
        "print(\"Hello\")\n",
        "print(\"How are you\")\n",
        "print(\"Hope everything is fine\")"
      ],
      "metadata": {
        "colab": {
          "base_uri": "https://localhost:8080/"
        },
        "id": "D63yVHAZYdRY",
        "outputId": "a5301705-86ac-4f1a-bf8c-6aced1e18f9d"
      },
      "execution_count": 1,
      "outputs": [
        {
          "output_type": "stream",
          "name": "stdout",
          "text": [
            "Hello\n",
            "How are you\n",
            "Hope everything is fine\n"
          ]
        }
      ]
    },
    {
      "cell_type": "markdown",
      "source": [
        "COMMENTS: Statements in Python that are completely ignored by the interpreter.\n"
      ],
      "metadata": {
        "id": "kRLhnQwFZMOt"
      }
    },
    {
      "cell_type": "code",
      "source": [
        "#Single Line Comments\n",
        "#Greeting with people\n",
        "print(\"How are you\")"
      ],
      "metadata": {
        "colab": {
          "base_uri": "https://localhost:8080/"
        },
        "id": "UmKSAnYJZYRI",
        "outputId": "abdcfd7e-5d4b-4c28-948f-9d7e7ba0c6a6"
      },
      "execution_count": 2,
      "outputs": [
        {
          "output_type": "stream",
          "name": "stdout",
          "text": [
            "How are you\n"
          ]
        }
      ]
    },
    {
      "cell_type": "markdown",
      "source": [
        "Multiline Comments,using # for each line\n"
      ],
      "metadata": {
        "id": "kvi6IYUeZkOa"
      }
    },
    {
      "cell_type": "code",
      "source": [
        "#Thus is a multiple line\n",
        "#comment using # for each\n",
        "#line\n",
        "print(\"Hello World\")"
      ],
      "metadata": {
        "colab": {
          "base_uri": "https://localhost:8080/"
        },
        "id": "kQs9omYxZxwV",
        "outputId": "7215ce86-c87d-46cc-b79d-174467f044b3"
      },
      "execution_count": 3,
      "outputs": [
        {
          "output_type": "stream",
          "name": "stdout",
          "text": [
            "Hello World\n"
          ]
        }
      ]
    }
  ]
}