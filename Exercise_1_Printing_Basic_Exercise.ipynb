{
  "nbformat": 4,
  "nbformat_minor": 0,
  "metadata": {
    "colab": {
      "provenance": [],
      "toc_visible": true,
      "authorship_tag": "ABX9TyP+Bi859pKuoFKtKO+QJGt9",
      "include_colab_link": true
    },
    "kernelspec": {
      "name": "python3",
      "display_name": "Python 3"
    },
    "language_info": {
      "name": "python"
    }
  },
  "cells": [
    {
      "cell_type": "markdown",
      "metadata": {
        "id": "view-in-github",
        "colab_type": "text"
      },
      "source": [
        "<a href=\"https://colab.research.google.com/github/chatterjeepratik78/chatterjeepratik78/blob/main/Exercise_1_Printing_Basic_Exercise.ipynb\" target=\"_parent\"><img src=\"https://colab.research.google.com/assets/colab-badge.svg\" alt=\"Open In Colab\"/></a>"
      ]
    },
    {
      "cell_type": "code",
      "execution_count": 1,
      "metadata": {
        "colab": {
          "base_uri": "https://localhost:8080/"
        },
        "id": "VovusVMs5vVm",
        "outputId": "e3db74c4-b760-4677-bb3b-4d55babfa6b2"
      },
      "outputs": [
        {
          "output_type": "stream",
          "name": "stdout",
          "text": [
            "Enter your name please: prat\n",
            "What is your age: 42\n",
            "What is your favorite color: winter\n",
            "What is your favorite season: summer\n",
            "--------Student Info Center--------\n",
            "Name: prat\n",
            "Age: 42\n",
            "Color: winter\n",
            "Season: summer\n"
          ]
        }
      ],
      "source": [
        "#Taking username and stroring it in a variable\n",
        "name=input(\"Enter your name please: \")\n",
        "#taking age from user\n",
        "age=input(\"What is your age: \")\n",
        "#Taking favorite color\n",
        "color=input(\"What is your favorite color: \")\n",
        "#taking favorite season\n",
        "season=input(\"What is your favorite season: \")\n",
        "print(\"--------Student Info Center--------\")\n",
        "print('Name:',name)\n",
        "print('Age:',age)\n",
        "print('Color:',color)\n",
        "print('Season:',season)"
      ]
    }
  ]
}